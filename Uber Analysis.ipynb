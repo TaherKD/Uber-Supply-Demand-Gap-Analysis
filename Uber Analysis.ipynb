{
 "cells": [
  {
   "cell_type": "markdown",
   "metadata": {},
   "source": [
    "# Uber Analysis"
   ]
  },
  {
   "cell_type": "code",
   "execution_count": 1,
   "metadata": {
    "collapsed": true
   },
   "outputs": [],
   "source": [
    "#Import required libraries\n",
    "\n",
    "import pandas as pd\n",
    "import seaborn as sns\n",
    "import matplotlib\n",
    "import matplotlib.pyplot as plt"
   ]
  },
  {
   "cell_type": "markdown",
   "metadata": {},
   "source": [
    "Read the downloaded csv file into DataFrame called `masterdf`"
   ]
  },
  {
   "cell_type": "code",
   "execution_count": 2,
   "metadata": {},
   "outputs": [
    {
     "data": {
      "text/html": [
       "<div>\n",
       "<style scoped>\n",
       "    .dataframe tbody tr th:only-of-type {\n",
       "        vertical-align: middle;\n",
       "    }\n",
       "\n",
       "    .dataframe tbody tr th {\n",
       "        vertical-align: top;\n",
       "    }\n",
       "\n",
       "    .dataframe thead th {\n",
       "        text-align: right;\n",
       "    }\n",
       "</style>\n",
       "<table border=\"1\" class=\"dataframe\">\n",
       "  <thead>\n",
       "    <tr style=\"text-align: right;\">\n",
       "      <th></th>\n",
       "      <th>Request id</th>\n",
       "      <th>Pickup point</th>\n",
       "      <th>Driver id</th>\n",
       "      <th>Status</th>\n",
       "      <th>Request timestamp</th>\n",
       "      <th>Drop timestamp</th>\n",
       "    </tr>\n",
       "  </thead>\n",
       "  <tbody>\n",
       "    <tr>\n",
       "      <th>0</th>\n",
       "      <td>619</td>\n",
       "      <td>Airport</td>\n",
       "      <td>1.0</td>\n",
       "      <td>Trip Completed</td>\n",
       "      <td>11/7/2016 11:51</td>\n",
       "      <td>11/7/2016 13:00</td>\n",
       "    </tr>\n",
       "    <tr>\n",
       "      <th>1</th>\n",
       "      <td>867</td>\n",
       "      <td>Airport</td>\n",
       "      <td>1.0</td>\n",
       "      <td>Trip Completed</td>\n",
       "      <td>11/7/2016 17:57</td>\n",
       "      <td>11/7/2016 18:47</td>\n",
       "    </tr>\n",
       "    <tr>\n",
       "      <th>2</th>\n",
       "      <td>1807</td>\n",
       "      <td>City</td>\n",
       "      <td>1.0</td>\n",
       "      <td>Trip Completed</td>\n",
       "      <td>12/7/2016 9:17</td>\n",
       "      <td>12/7/2016 9:58</td>\n",
       "    </tr>\n",
       "    <tr>\n",
       "      <th>3</th>\n",
       "      <td>2532</td>\n",
       "      <td>Airport</td>\n",
       "      <td>1.0</td>\n",
       "      <td>Trip Completed</td>\n",
       "      <td>12/7/2016 21:08</td>\n",
       "      <td>12/7/2016 22:03</td>\n",
       "    </tr>\n",
       "    <tr>\n",
       "      <th>4</th>\n",
       "      <td>3112</td>\n",
       "      <td>City</td>\n",
       "      <td>1.0</td>\n",
       "      <td>Trip Completed</td>\n",
       "      <td>13-07-2016 08:33:16</td>\n",
       "      <td>13-07-2016 09:25:47</td>\n",
       "    </tr>\n",
       "  </tbody>\n",
       "</table>\n",
       "</div>"
      ],
      "text/plain": [
       "   Request id Pickup point  Driver id          Status    Request timestamp  \\\n",
       "0         619      Airport        1.0  Trip Completed      11/7/2016 11:51   \n",
       "1         867      Airport        1.0  Trip Completed      11/7/2016 17:57   \n",
       "2        1807         City        1.0  Trip Completed       12/7/2016 9:17   \n",
       "3        2532      Airport        1.0  Trip Completed      12/7/2016 21:08   \n",
       "4        3112         City        1.0  Trip Completed  13-07-2016 08:33:16   \n",
       "\n",
       "        Drop timestamp  \n",
       "0      11/7/2016 13:00  \n",
       "1      11/7/2016 18:47  \n",
       "2       12/7/2016 9:58  \n",
       "3      12/7/2016 22:03  \n",
       "4  13-07-2016 09:25:47  "
      ]
     },
     "execution_count": 2,
     "metadata": {},
     "output_type": "execute_result"
    }
   ],
   "source": [
    "masterdf = pd.read_csv(\"Uber Request Data.csv\")\n",
    "\n",
    "#Lets have a prelimanary look at the dataset\n",
    "masterdf.head()"
   ]
  },
  {
   "cell_type": "code",
   "execution_count": 3,
   "metadata": {},
   "outputs": [
    {
     "name": "stdout",
     "output_type": "stream",
     "text": [
      "<class 'pandas.core.frame.DataFrame'>\n",
      "RangeIndex: 6745 entries, 0 to 6744\n",
      "Data columns (total 6 columns):\n",
      "Request id           6745 non-null int64\n",
      "Pickup point         6745 non-null object\n",
      "Driver id            4095 non-null float64\n",
      "Status               6745 non-null object\n",
      "Request timestamp    6745 non-null object\n",
      "Drop timestamp       2831 non-null object\n",
      "dtypes: float64(1), int64(1), object(4)\n",
      "memory usage: 316.2+ KB\n"
     ]
    }
   ],
   "source": [
    "#Lets also have a look at the dataset with respect to properties of its columns\n",
    "masterdf.info()"
   ]
  },
  {
   "cell_type": "markdown",
   "metadata": {},
   "source": [
    "We can observe that there are **6745 Rows** and **6 Columns**. `Request id` is correctly readed as int. `Pickup point` is readed as object whereas more suitable datatype for it is category since it has only 2 category i.e. Airport and City. `Driver id` have few null values and hence its readed as float rather than int. `Status` like Pickup point should be categorical. `Request timestamp` and `Drop timestamp` should be in datetime format rather than object so that they can be used to perform datetime operations."
   ]
  },
  {
   "cell_type": "code",
   "execution_count": 4,
   "metadata": {},
   "outputs": [
    {
     "name": "stdout",
     "output_type": "stream",
     "text": [
      "<class 'pandas.core.frame.DataFrame'>\n",
      "RangeIndex: 6745 entries, 0 to 6744\n",
      "Data columns (total 4 columns):\n",
      "Request id           6745 non-null int64\n",
      "Pickup point         6745 non-null category\n",
      "Status               6745 non-null category\n",
      "Request timestamp    6745 non-null datetime64[ns]\n",
      "dtypes: category(2), datetime64[ns](1), int64(1)\n",
      "memory usage: 118.8 KB\n"
     ]
    }
   ],
   "source": [
    "#lets make the required changes\n",
    "masterdf['Pickup point'] = masterdf['Pickup point'].astype('category')\n",
    "masterdf = masterdf.drop(columns=['Driver id', 'Drop timestamp'])\n",
    "masterdf['Status'] = masterdf['Status'].astype('category')\n",
    "masterdf['Request timestamp'] = pd.to_datetime(masterdf['Request timestamp'])\n",
    "\n",
    "#lets have a look at df info again\n",
    "masterdf.info()"
   ]
  },
  {
   "cell_type": "markdown",
   "metadata": {},
   "source": [
    "## 1. Visually identify the most pressing problems for Uber.  "
   ]
  },
  {
   "cell_type": "markdown",
   "metadata": {},
   "source": [
    "To properly utilize `Request timestamp`, we will use a category variable which represents `Part of day` which has values - Night(0hr-6hr), Morning(6hr-12hr), Afternoon(12hr-18hr) and Evening(18hr-24hr)."
   ]
  },
  {
   "cell_type": "code",
   "execution_count": 5,
   "metadata": {},
   "outputs": [
    {
     "data": {
      "text/html": [
       "<div>\n",
       "<style scoped>\n",
       "    .dataframe tbody tr th:only-of-type {\n",
       "        vertical-align: middle;\n",
       "    }\n",
       "\n",
       "    .dataframe tbody tr th {\n",
       "        vertical-align: top;\n",
       "    }\n",
       "\n",
       "    .dataframe thead th {\n",
       "        text-align: right;\n",
       "    }\n",
       "</style>\n",
       "<table border=\"1\" class=\"dataframe\">\n",
       "  <thead>\n",
       "    <tr style=\"text-align: right;\">\n",
       "      <th></th>\n",
       "      <th>Request id</th>\n",
       "      <th>Pickup point</th>\n",
       "      <th>Status</th>\n",
       "      <th>Request timestamp</th>\n",
       "      <th>PartofDay</th>\n",
       "    </tr>\n",
       "  </thead>\n",
       "  <tbody>\n",
       "    <tr>\n",
       "      <th>0</th>\n",
       "      <td>619</td>\n",
       "      <td>Airport</td>\n",
       "      <td>Trip Completed</td>\n",
       "      <td>2016-11-07 11:51:00</td>\n",
       "      <td>Morning</td>\n",
       "    </tr>\n",
       "    <tr>\n",
       "      <th>1</th>\n",
       "      <td>867</td>\n",
       "      <td>Airport</td>\n",
       "      <td>Trip Completed</td>\n",
       "      <td>2016-11-07 17:57:00</td>\n",
       "      <td>Afternoon</td>\n",
       "    </tr>\n",
       "    <tr>\n",
       "      <th>2</th>\n",
       "      <td>1807</td>\n",
       "      <td>City</td>\n",
       "      <td>Trip Completed</td>\n",
       "      <td>2016-12-07 09:17:00</td>\n",
       "      <td>Morning</td>\n",
       "    </tr>\n",
       "    <tr>\n",
       "      <th>3</th>\n",
       "      <td>2532</td>\n",
       "      <td>Airport</td>\n",
       "      <td>Trip Completed</td>\n",
       "      <td>2016-12-07 21:08:00</td>\n",
       "      <td>Evening</td>\n",
       "    </tr>\n",
       "    <tr>\n",
       "      <th>4</th>\n",
       "      <td>3112</td>\n",
       "      <td>City</td>\n",
       "      <td>Trip Completed</td>\n",
       "      <td>2016-07-13 08:33:16</td>\n",
       "      <td>Morning</td>\n",
       "    </tr>\n",
       "  </tbody>\n",
       "</table>\n",
       "</div>"
      ],
      "text/plain": [
       "   Request id Pickup point          Status   Request timestamp  PartofDay\n",
       "0         619      Airport  Trip Completed 2016-11-07 11:51:00    Morning\n",
       "1         867      Airport  Trip Completed 2016-11-07 17:57:00  Afternoon\n",
       "2        1807         City  Trip Completed 2016-12-07 09:17:00    Morning\n",
       "3        2532      Airport  Trip Completed 2016-12-07 21:08:00    Evening\n",
       "4        3112         City  Trip Completed 2016-07-13 08:33:16    Morning"
      ]
     },
     "execution_count": 5,
     "metadata": {},
     "output_type": "execute_result"
    }
   ],
   "source": [
    "#Using pd.cut, we'll make groups in series with custom labels\n",
    "session = pd.cut(masterdf['Request timestamp'].dt.hour,[-1,5,11,17,23], \\\n",
    "                 labels=['Night','Morning','Afternoon','Evening'])\n",
    "masterdf = masterdf.assign(PartofDay=session)\n",
    "masterdf['PartofDay'] = masterdf['PartofDay'].astype('category')\n",
    "masterdf.head()"
   ]
  },
  {
   "cell_type": "markdown",
   "metadata": {},
   "source": [
    "Now lets plot the count of rides against all categorical variables that we have i.e. `Status`, `Pickup point` and `PartofDay`."
   ]
  },
  {
   "cell_type": "code",
   "execution_count": 6,
   "metadata": {},
   "outputs": [
    {
     "data": {
      "text/plain": [
       "<seaborn.axisgrid.FacetGrid at 0x68406a0>"
      ]
     },
     "execution_count": 6,
     "metadata": {},
     "output_type": "execute_result"
    },
    {
     "data": {
      "image/png": "[encoded data removed]",
      "text/plain": [
       "<Figure size 667.525x576 with 4 Axes>"
      ]
     },
     "metadata": {},
     "output_type": "display_data"
    }
   ],
   "source": [
    "matplotlib.rcParams.update({'font.size': 14})\n",
    "sns.set_style('whitegrid')\n",
    "sns.set_style('whitegrid')\n",
    "ax = sns.catplot(x='Status', hue='Pickup point', col='PartofDay', data=masterdf, kind='count', \\\n",
    "                 height=4, aspect=1, col_wrap=2)\n",
    "ax.set_xticklabels(rotation=30)"
   ]
  },
  {
   "cell_type": "markdown",
   "metadata": {},
   "source": [
    "Let address the most prominent observations and inferences - \n",
    "1. There is huge spike in the `Evening`(18hr-24hr) which shows `No cars Available` when the Pickup point is `Airport`. This could be due to arrival of flights in this part of the day hence surging the demand but this demand is not met by available drivers and customers face No cars Available problem.<hr>\n",
    "\n",
    "2. Next interesting spike is in `Morning`(6hr-12hr) which shows `Cancelled` when the Pickup point is `City`. Now this could be due to the absence of arrival of many flights in Morning hence there is no demand at the airport and drivers need to wait for longer time to get a ride from airport which is economically inconvenient for them hence they cancel the ride from the City to Airport in the first place.<hr>\n",
    "\n",
    "3. Another evidence for the above hypothesis are the spikes in `Morning` which shows `No cars Available` when the Pickup point is `City`. This shows that most drivers prefer destinations other than Airport and are occupied with the same. "
   ]
  },
  {
   "cell_type": "markdown",
   "metadata": {},
   "source": [
    "## 2. Find out the gap between supply and demand and show the same using plots."
   ]
  },
  {
   "cell_type": "markdown",
   "metadata": {},
   "source": [
    "For this task we'll create a new categorical variable called `Gap` which represent weather there was a gap in supply and demand or the trip was completed successfully."
   ]
  },
  {
   "cell_type": "code",
   "execution_count": 7,
   "metadata": {},
   "outputs": [
    {
     "data": {
      "text/html": [
       "<div>\n",
       "<style scoped>\n",
       "    .dataframe tbody tr th:only-of-type {\n",
       "        vertical-align: middle;\n",
       "    }\n",
       "\n",
       "    .dataframe tbody tr th {\n",
       "        vertical-align: top;\n",
       "    }\n",
       "\n",
       "    .dataframe thead th {\n",
       "        text-align: right;\n",
       "    }\n",
       "</style>\n",
       "<table border=\"1\" class=\"dataframe\">\n",
       "  <thead>\n",
       "    <tr style=\"text-align: right;\">\n",
       "      <th></th>\n",
       "      <th>Request id</th>\n",
       "      <th>Pickup point</th>\n",
       "      <th>Status</th>\n",
       "      <th>Request timestamp</th>\n",
       "      <th>PartofDay</th>\n",
       "      <th>Gap</th>\n",
       "    </tr>\n",
       "  </thead>\n",
       "  <tbody>\n",
       "    <tr>\n",
       "      <th>0</th>\n",
       "      <td>619</td>\n",
       "      <td>Airport</td>\n",
       "      <td>Trip Completed</td>\n",
       "      <td>2016-11-07 11:51:00</td>\n",
       "      <td>Morning</td>\n",
       "      <td>False</td>\n",
       "    </tr>\n",
       "    <tr>\n",
       "      <th>1</th>\n",
       "      <td>867</td>\n",
       "      <td>Airport</td>\n",
       "      <td>Trip Completed</td>\n",
       "      <td>2016-11-07 17:57:00</td>\n",
       "      <td>Afternoon</td>\n",
       "      <td>False</td>\n",
       "    </tr>\n",
       "    <tr>\n",
       "      <th>2</th>\n",
       "      <td>1807</td>\n",
       "      <td>City</td>\n",
       "      <td>Trip Completed</td>\n",
       "      <td>2016-12-07 09:17:00</td>\n",
       "      <td>Morning</td>\n",
       "      <td>False</td>\n",
       "    </tr>\n",
       "    <tr>\n",
       "      <th>3</th>\n",
       "      <td>2532</td>\n",
       "      <td>Airport</td>\n",
       "      <td>Trip Completed</td>\n",
       "      <td>2016-12-07 21:08:00</td>\n",
       "      <td>Evening</td>\n",
       "      <td>False</td>\n",
       "    </tr>\n",
       "    <tr>\n",
       "      <th>4</th>\n",
       "      <td>3112</td>\n",
       "      <td>City</td>\n",
       "      <td>Trip Completed</td>\n",
       "      <td>2016-07-13 08:33:16</td>\n",
       "      <td>Morning</td>\n",
       "      <td>False</td>\n",
       "    </tr>\n",
       "  </tbody>\n",
       "</table>\n",
       "</div>"
      ],
      "text/plain": [
       "   Request id Pickup point          Status   Request timestamp  PartofDay  \\\n",
       "0         619      Airport  Trip Completed 2016-11-07 11:51:00    Morning   \n",
       "1         867      Airport  Trip Completed 2016-11-07 17:57:00  Afternoon   \n",
       "2        1807         City  Trip Completed 2016-12-07 09:17:00    Morning   \n",
       "3        2532      Airport  Trip Completed 2016-12-07 21:08:00    Evening   \n",
       "4        3112         City  Trip Completed 2016-07-13 08:33:16    Morning   \n",
       "\n",
       "     Gap  \n",
       "0  False  \n",
       "1  False  \n",
       "2  False  \n",
       "3  False  \n",
       "4  False  "
      ]
     },
     "execution_count": 7,
     "metadata": {},
     "output_type": "execute_result"
    }
   ],
   "source": [
    "masterdf['Gap'] = masterdf['Status'].apply(lambda x : x!='Trip Completed')\n",
    "masterdf.head()"
   ]
  },
  {
   "cell_type": "markdown",
   "metadata": {},
   "source": [
    "To understand the supply-demand `Gap` with respect to `PartofDay`, lets plot the percentage of rides that were successfully completed."
   ]
  },
  {
   "cell_type": "code",
   "execution_count": 8,
   "metadata": {},
   "outputs": [
    {
     "data": {
      "image/png": "[encoded data removed]",
      "text/plain": [
       "<Figure size 360x360 with 1 Axes>"
      ]
     },
     "metadata": {},
     "output_type": "display_data"
    }
   ],
   "source": [
    "portofday_gap = (masterdf.groupby('PartofDay')['Gap'].sum()/masterdf['PartofDay'].value_counts())*100\n",
    "matplotlib.rcParams.update({'font.size': 15})\n",
    "plt.figure(figsize=(5, 5))\n",
    "plt.title('Percentage of demand-supply gap')\n",
    "plt.xlabel('Part of Day')\n",
    "plt.ylabel('Ppercentage')\n",
    "sns.set_style('whitegrid')\n",
    "ax = sns.barplot(portofday_gap.index, portofday_gap.values)"
   ]
  },
  {
   "cell_type": "markdown",
   "metadata": {},
   "source": [
    "Let address the most prominent observations and inferences - \n",
    "1. The highest peak is in the `Evening`(18hr-24hr) as there is a huge demand generated at the airport at this time and customers face `No cars Available` hence creating the gap and more than 60% of trips are not met with supply.<hr>\n",
    "2. The second highest peak is in `Night`(0hr-6hr) as the trend from evening continues. Also number of drivers decreases in the night and the places which they travel to, gets limited and increasing the demand-supply gap."
   ]
  },
  {
   "cell_type": "markdown",
   "metadata": {},
   "source": [
    "## 3. Recommend some ways to resolve the supply-demand gap."
   ]
  },
  {
   "cell_type": "markdown",
   "metadata": {},
   "source": [
    "- First of all, clearly airport rides are different from other intracity rides as the demand and supply is governed by the arrival and departure of flights. This arrival and departure has a specific pattern rather than random requests for rides.<hr>\n",
    "\n",
    "- The flight patterns could be studied to provide better customer service.<hr>\n",
    "\n",
    "- There is huge demand in the evening due to arrival of flights. Drivers can be provided with incentives to accept such rides or a special unit of drivers can be appointed which serves passengers only from and to airport.<hr>\n",
    "\n",
    "- Drivers can also be provided with incentives to accept rides to airport in the morning time if they doesn't receive a ride request for a specific amount of time. This will help reduce the economical disadvantage drivers face when they return without passengers from airport.<hr>\n",
    "\n",
    "- Passengers could be prioritised based on weather they are willing to pay extra for earlier access to a cab at peak times.  "
   ]
  }
 ],
 "metadata": {
  "kernelspec": {
   "display_name": "Python 3",
   "language": "python",
   "name": "python3"
  },
  "language_info": {
   "codemirror_mode": {
    "name": "ipython",
    "version": 3
   },
   "file_extension": ".py",
   "mimetype": "text/x-python",
   "name": "python",
   "nbconvert_exporter": "python",
   "pygments_lexer": "ipython3",
   "version": "3.6.8"
  }
 },
 "nbformat": 4,
 "nbformat_minor": 2
}
